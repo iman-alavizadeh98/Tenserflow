{
 "cells": [
  {
   "cell_type": "markdown",
   "metadata": {},
   "source": [
    "## Importing our libaries"
   ]
  },
  {
   "cell_type": "code",
   "execution_count": 1,
   "metadata": {},
   "outputs": [],
   "source": [
    "import numpy as np\n",
    "import pandas as pd\n",
    "import os\n",
    "import matplotlib.image as rimage\n",
    "import matplotlib.pyplot as plt"
   ]
  },
  {
   "cell_type": "code",
   "execution_count": 2,
   "metadata": {},
   "outputs": [],
   "source": [
    "from tensorflow.keras.models import Sequential\n",
    "from tensorflow.keras.layers import Dense,Flatten\n",
    "import tensorflow as tf"
   ]
  },
  {
   "cell_type": "markdown",
   "metadata": {},
   "source": [
    "### The path roots of our dataset "
   ]
  },
  {
   "cell_type": "code",
   "execution_count": 3,
   "metadata": {},
   "outputs": [],
   "source": [
    "image_path='D:\\\\Coding Projects(Python)\\\\First test project'\n",
    "image_folder='\\\\image-datasets\\\\tensor-datasets\\\\'\n",
    "train_image_folder=image_path+image_folder+'\\\\train'\n",
    "test_image_folder=image_path+image_folder+'\\\\test'\n",
    "train_man_image_folder=image_path+image_folder+'\\\\train\\\\man'\n",
    "train_kid_image_folder=image_path+image_folder+'\\\\train\\\\kid'\n",
    "test_man_image_folder=image_path+image_folder+'\\\\test\\\\man'\n",
    "test_kid_image_folder=image_path+image_folder+'test\\\\kid'"
   ]
  },
  {
   "cell_type": "markdown",
   "metadata": {},
   "source": [
    "### Reading our images "
   ]
  },
  {
   "cell_type": "code",
   "execution_count": 4,
   "metadata": {},
   "outputs": [
    {
     "name": "stdout",
     "output_type": "stream",
     "text": [
      "Number of Train Man Images => 140 \n",
      "Number of Train Kid Images => 120 \n",
      "Number of Test Man Images => 10 \n",
      "Number of Test Kid Images => 10 \n",
      "Train Total Images => 260\n",
      "Test Total Images => 20\n"
     ]
    }
   ],
   "source": [
    "train_man_list=os.listdir(train_man_image_folder)\n",
    "train_kid_list=os.listdir(train_kid_image_folder)\n",
    "test_man_list=os.listdir(test_man_image_folder)\n",
    "test_kid_list=os.listdir(test_kid_image_folder)\n",
    "\n",
    "n_of_man_train=len(train_man_list)\n",
    "n_of_kid_train=len(train_kid_list)\n",
    "n_of_man_test=len(test_man_list)\n",
    "n_of_kid_test=len(test_kid_list)\n",
    "\n",
    "print('Number of Train Man Images => {} \\nNumber of Train Kid Images => {} \\nNumber of Test Man Images => {} \\nNumber of Test Kid Images => {} \\nTrain Total Images => {}\\nTest Total Images => {}'.format(n_of_man_train,n_of_kid_train,n_of_man_test,n_of_kid_test,n_of_kid_train+n_of_man_train,n_of_kid_test+n_of_man_test))"
   ]
  },
  {
   "cell_type": "markdown",
   "metadata": {},
   "source": [
    "### Image Info and importing part"
   ]
  },
  {
   "cell_type": "code",
   "execution_count": 5,
   "metadata": {},
   "outputs": [],
   "source": [
    "width=64\n",
    "height=64"
   ]
  },
  {
   "cell_type": "code",
   "execution_count": 6,
   "metadata": {},
   "outputs": [],
   "source": [
    "train_images_data=np.ndarray(shape=(n_of_man_train+n_of_kid_train,width*height),dtype='float64')\n",
    "test_images_data=np.ndarray(shape=(n_of_man_test+n_of_kid_test,width*height),dtype='float64')"
   ]
  },
  {
   "cell_type": "code",
   "execution_count": 7,
   "metadata": {},
   "outputs": [],
   "source": [
    "index=0\n",
    "for name in train_man_list:\n",
    "    image=rimage.imread(train_man_image_folder+\"\\\\\"+name)\n",
    "    train_images_data[index,:]=np.array(image,dtype='float64').flatten()\n",
    "    index+=1\n",
    "\n",
    "for name in train_kid_list:\n",
    "    image=rimage.imread(train_kid_image_folder+\"\\\\\"+name)\n",
    "    train_images_data[index,:]=np.array(image,dtype='float64').flatten()\n",
    "    index+=1\n",
    "\n",
    "index=0\n",
    "for name in test_man_list:\n",
    "    image=rimage.imread(test_man_image_folder+\"\\\\\"+name)\n",
    "    test_images_data[index,:]=np.array(image,dtype='float64').flatten()\n",
    "    index+=1\n",
    "\n",
    "for name in test_kid_list:\n",
    "    image=rimage.imread(test_kid_image_folder+\"\\\\\"+name)\n",
    "    test_images_data[index,:]=np.array(image,dtype='float64').flatten()\n",
    "    index+=1"
   ]
  },
  {
   "cell_type": "code",
   "execution_count": 8,
   "metadata": {},
   "outputs": [],
   "source": [
    "train_images_data_reshape=train_images_data.reshape(n_of_kid_train+n_of_man_train,64,64)"
   ]
  },
  {
   "cell_type": "code",
   "execution_count": 9,
   "metadata": {},
   "outputs": [],
   "source": [
    "test_images_data_reshape=np.copy(test_images_data.reshape(n_of_kid_test+n_of_man_test,64,64))\n"
   ]
  },
  {
   "cell_type": "markdown",
   "metadata": {},
   "source": [
    "### Importing labels "
   ]
  },
  {
   "cell_type": "code",
   "execution_count": 10,
   "metadata": {},
   "outputs": [],
   "source": [
    "classes=['Adult','Child']\n",
    "train_class=list()\n",
    "test_class=list()\n",
    "for i in range(n_of_man_train):\n",
    "    train_class.append(0)\n",
    "for i in range(n_of_kid_train):\n",
    "    train_class.append(1)\n",
    "\n",
    "for i in range(n_of_man_test):\n",
    "    test_class.append(0)\n",
    "for i in range(n_of_kid_test):\n",
    "    test_class.append(1)"
   ]
  },
  {
   "cell_type": "markdown",
   "metadata": {},
   "source": [
    "### Normalization of images"
   ]
  },
  {
   "cell_type": "code",
   "execution_count": 11,
   "metadata": {},
   "outputs": [],
   "source": [
    "train_dataset=np.divide(train_images_data_reshape,255.0)"
   ]
  },
  {
   "cell_type": "code",
   "execution_count": 12,
   "metadata": {},
   "outputs": [],
   "source": [
    "test_dataset=np.divide(test_images_data_reshape,255.0)"
   ]
  },
  {
   "cell_type": "markdown",
   "metadata": {},
   "source": [
    "### Our MLP model"
   ]
  },
  {
   "cell_type": "code",
   "execution_count": 18,
   "metadata": {},
   "outputs": [],
   "source": [
    "layers=Sequential([\n",
    "    Flatten(input_shape=(64,64)),\n",
    "    \n",
    "    Dense(8192,activation=tf.nn.relu),\n",
    "  \n",
    "    \n",
    "    Dense(4048,activation=tf.nn.relu),\n",
    "    Dense(512,activation=tf.nn.relu),\n",
    "    Dense(2,activation=tf.nn.softmax)\n",
    "    \n",
    "])"
   ]
  },
  {
   "cell_type": "code",
   "execution_count": 19,
   "metadata": {},
   "outputs": [],
   "source": [
    "layers.compile(optimizer='adam',loss='sparse_categorical_crossentropy',metrics=['accuracy'])"
   ]
  },
  {
   "cell_type": "code",
   "execution_count": 20,
   "metadata": {},
   "outputs": [
    {
     "name": "stdout",
     "output_type": "stream",
     "text": [
      "Model: \"sequential_1\"\n",
      "_________________________________________________________________\n",
      "Layer (type)                 Output Shape              Param #   \n",
      "=================================================================\n",
      "flatten_1 (Flatten)          (None, 4096)              0         \n",
      "_________________________________________________________________\n",
      "dense_6 (Dense)              (None, 8192)              33562624  \n",
      "_________________________________________________________________\n",
      "dense_7 (Dense)              (None, 4048)              33165264  \n",
      "_________________________________________________________________\n",
      "dense_8 (Dense)              (None, 512)               2073088   \n",
      "_________________________________________________________________\n",
      "dense_9 (Dense)              (None, 2)                 1026      \n",
      "=================================================================\n",
      "Total params: 68,802,002\n",
      "Trainable params: 68,802,002\n",
      "Non-trainable params: 0\n",
      "_________________________________________________________________\n"
     ]
    }
   ],
   "source": [
    "layers.summary()"
   ]
  },
  {
   "cell_type": "markdown",
   "metadata": {},
   "source": [
    "### Training our model"
   ]
  },
  {
   "cell_type": "code",
   "execution_count": 21,
   "metadata": {},
   "outputs": [
    {
     "name": "stdout",
     "output_type": "stream",
     "text": [
      "Train on 260 samples\n",
      "Epoch 1/10\n",
      "260/260 [==============================] - 2s 9ms/sample - loss: 17.3547 - accuracy: 0.4692\n",
      "Epoch 2/10\n",
      "260/260 [==============================] - 2s 8ms/sample - loss: 1.4869 - accuracy: 0.5423\n",
      "Epoch 3/10\n",
      "260/260 [==============================] - 2s 8ms/sample - loss: 0.7324 - accuracy: 0.5654\n",
      "Epoch 4/10\n",
      "260/260 [==============================] - 2s 8ms/sample - loss: 0.6921 - accuracy: 0.5231\n",
      "Epoch 5/10\n",
      "260/260 [==============================] - 2s 8ms/sample - loss: 0.6576 - accuracy: 0.6115\n",
      "Epoch 6/10\n",
      "260/260 [==============================] - 2s 8ms/sample - loss: 0.6456 - accuracy: 0.5962\n",
      "Epoch 7/10\n",
      "260/260 [==============================] - 2s 8ms/sample - loss: 0.5522 - accuracy: 0.7192\n",
      "Epoch 8/10\n",
      "260/260 [==============================] - 2s 8ms/sample - loss: 0.6026 - accuracy: 0.7538\n",
      "Epoch 9/10\n",
      "260/260 [==============================] - 2s 8ms/sample - loss: 0.5346 - accuracy: 0.7038\n",
      "Epoch 10/10\n",
      "260/260 [==============================] - 2s 8ms/sample - loss: 0.4362 - accuracy: 0.8192\n"
     ]
    },
    {
     "data": {
      "text/plain": [
       "<tensorflow.python.keras.callbacks.History at 0x142c33b80f0>"
      ]
     },
     "execution_count": 21,
     "metadata": {},
     "output_type": "execute_result"
    }
   ],
   "source": [
    "layers.fit(\n",
    "    train_dataset,\n",
    "    np.array(train_class),\n",
    "    epochs=10,\n",
    "    \n",
    ")"
   ]
  },
  {
   "cell_type": "markdown",
   "metadata": {},
   "source": [
    "### Our test results"
   ]
  },
  {
   "cell_type": "code",
   "execution_count": 17,
   "metadata": {},
   "outputs": [
    {
     "name": "stdout",
     "output_type": "stream",
     "text": [
      "\r",
      "20/20 [==============================] - 0s 7ms/sample - loss: 0.6794 - accuracy: 0.5000\n"
     ]
    }
   ],
   "source": [
    "test_loss,test_accuracy=layers.evaluate(test_dataset,np.array(test_class))"
   ]
  },
  {
   "cell_type": "code",
   "execution_count": null,
   "metadata": {},
   "outputs": [],
   "source": []
  }
 ],
 "metadata": {
  "kernelspec": {
   "display_name": "Python 3",
   "language": "python",
   "name": "python3"
  },
  "language_info": {
   "codemirror_mode": {
    "name": "ipython",
    "version": 3
   },
   "file_extension": ".py",
   "mimetype": "text/x-python",
   "name": "python",
   "nbconvert_exporter": "python",
   "pygments_lexer": "ipython3",
   "version": "3.7.3"
  }
 },
 "nbformat": 4,
 "nbformat_minor": 4
}
